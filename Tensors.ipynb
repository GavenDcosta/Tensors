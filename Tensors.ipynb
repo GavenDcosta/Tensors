{
  "nbformat": 4,
  "nbformat_minor": 0,
  "metadata": {
    "colab": {
      "provenance": []
    },
    "kernelspec": {
      "name": "python3",
      "display_name": "Python 3"
    },
    "language_info": {
      "name": "python"
    }
  },
  "cells": [
    {
      "cell_type": "code",
      "execution_count": null,
      "metadata": {
        "id": "FxT-WNdVnh3l"
      },
      "outputs": [],
      "source": [
        "import tensorflow as tf"
      ]
    },
    {
      "cell_type": "code",
      "source": [
        "# Zero Dimensional tensor\n",
        "\n",
        "tensor_zero_d = tf.constant(4)\n",
        "print(tensor_zero_d)"
      ],
      "metadata": {
        "colab": {
          "base_uri": "https://localhost:8080/"
        },
        "id": "_pR96uwutNzM",
        "outputId": "1af153db-87e2-4782-8405-927b8be7487a"
      },
      "execution_count": null,
      "outputs": [
        {
          "output_type": "stream",
          "name": "stdout",
          "text": [
            "tf.Tensor(4, shape=(), dtype=int32)\n"
          ]
        }
      ]
    },
    {
      "cell_type": "code",
      "source": [
        "# One Dimensional tensor\n",
        "\n",
        "tensor_one_d = tf.constant([2,0,-3], dtype=tf.float32)\n",
        "casted_tensor_one_d = tf.cast(tensor_one_d, dtype=tf.int32)\n",
        "\n",
        "print(tensor_one_d)\n",
        "print(casted_tensor_one_d)"
      ],
      "metadata": {
        "colab": {
          "base_uri": "https://localhost:8080/"
        },
        "id": "L-JVxXXitN3S",
        "outputId": "cf7e840c-101a-4e40-dd51-b5225ef2c5cb"
      },
      "execution_count": null,
      "outputs": [
        {
          "output_type": "stream",
          "name": "stdout",
          "text": [
            "tf.Tensor([ 2.  0. -3.], shape=(3,), dtype=float32)\n",
            "tf.Tensor([ 2  0 -3], shape=(3,), dtype=int32)\n"
          ]
        }
      ]
    },
    {
      "cell_type": "code",
      "source": [
        "# One Dimensional tensor\n",
        "\n",
        "tensor_one1_d = tf.constant([2,0,-3,8,90.5])\n",
        "print(tensor_one1_d)"
      ],
      "metadata": {
        "colab": {
          "base_uri": "https://localhost:8080/"
        },
        "id": "9loXAgSGtN52",
        "outputId": "007c50fc-0bf6-4d5a-eacc-a39c0a891869"
      },
      "execution_count": null,
      "outputs": [
        {
          "output_type": "stream",
          "name": "stdout",
          "text": [
            "tf.Tensor([ 2.   0.  -3.   8.  90.5], shape=(5,), dtype=float32)\n"
          ]
        }
      ]
    },
    {
      "cell_type": "code",
      "source": [
        "# Two Dimensional tensor\n",
        "\n",
        "tensor_two_d = tf.constant([\n",
        "                            [1,2,0],\n",
        "                            [3,5,-1],\n",
        "                            [1,5,6],\n",
        "                            [2,3,8]\n",
        "                          ])\n",
        "print(tensor_two_d)\n",
        "\n",
        "print(tensor_two_d[0:3,0:2])"
      ],
      "metadata": {
        "colab": {
          "base_uri": "https://localhost:8080/"
        },
        "id": "lseSKfJptN8K",
        "outputId": "8fc30a07-c1cb-4845-efdf-0ba47440b027"
      },
      "execution_count": null,
      "outputs": [
        {
          "output_type": "stream",
          "name": "stdout",
          "text": [
            "tf.Tensor(\n",
            "[[ 1  2  0]\n",
            " [ 3  5 -1]\n",
            " [ 1  5  6]\n",
            " [ 2  3  8]], shape=(4, 3), dtype=int32)\n",
            "tf.Tensor(\n",
            "[[1 2]\n",
            " [3 5]\n",
            " [1 5]], shape=(3, 2), dtype=int32)\n"
          ]
        }
      ]
    },
    {
      "cell_type": "code",
      "source": [
        "# Three Dimensional tensor\n",
        "\n",
        "tensor_three_d = tf.constant(\n",
        "    [\n",
        "        [\n",
        "           [1,2,0],\n",
        "           [3,5,-1]\n",
        "        ],\n",
        "        [\n",
        "            [10,2,0],\n",
        "            [1,0,2]\n",
        "        ],\n",
        "        [\n",
        "            [5,8,0],\n",
        "            [2,7,0]\n",
        "        ],\n",
        "        [\n",
        "            [2,1,9],\n",
        "            [4,-3,32]\n",
        "        ]\n",
        "    ]\n",
        ")\n",
        "\n",
        "print(tensor_three_d)\n",
        "print(tensor_three_d[2:3, 0:, :2])"
      ],
      "metadata": {
        "colab": {
          "base_uri": "https://localhost:8080/"
        },
        "id": "pWh9PK-GtN-R",
        "outputId": "0836face-3d39-46d2-9d45-bb4bcf3785bf"
      },
      "execution_count": null,
      "outputs": [
        {
          "output_type": "stream",
          "name": "stdout",
          "text": [
            "tf.Tensor(\n",
            "[[[ 1  2  0]\n",
            "  [ 3  5 -1]]\n",
            "\n",
            " [[10  2  0]\n",
            "  [ 1  0  2]]\n",
            "\n",
            " [[ 5  8  0]\n",
            "  [ 2  7  0]]\n",
            "\n",
            " [[ 2  1  9]\n",
            "  [ 4 -3 32]]], shape=(4, 2, 3), dtype=int32)\n",
            "tf.Tensor(\n",
            "[[[5 8]\n",
            "  [2 7]]], shape=(1, 2, 2), dtype=int32)\n"
          ]
        }
      ]
    },
    {
      "cell_type": "code",
      "source": [
        "# Four Dimensional tensor\n",
        "\n",
        "tensor_four_d = tf.constant([\n",
        "    [\n",
        "        [\n",
        "           [1,2,0],\n",
        "           [3,5,-1]\n",
        "        ],\n",
        "        [\n",
        "            [10,2,0],\n",
        "            [1,0,2]\n",
        "        ],\n",
        "        [\n",
        "            [5,8,0],\n",
        "            [2,7,0]\n",
        "        ],\n",
        "        [\n",
        "            [2,1,9],\n",
        "            [4,-3,32]\n",
        "        ]\n",
        "    ],\n",
        "    [\n",
        "        [\n",
        "           [16,21,0],\n",
        "           [3,52,-15]\n",
        "        ],\n",
        "        [\n",
        "            [10,52,60],\n",
        "            [21,40,32]\n",
        "        ],\n",
        "        [\n",
        "            [53,8,0],\n",
        "            [2,77,0]\n",
        "        ],\n",
        "        [\n",
        "            [2,31,9],\n",
        "            [4,-36,352]\n",
        "        ]\n",
        "    ],\n",
        "    [\n",
        "        [\n",
        "           [69,62,0],\n",
        "           [34,5,-1]\n",
        "        ],\n",
        "        [\n",
        "            [10,2,40],\n",
        "            [1,20,2]\n",
        "        ],\n",
        "        [\n",
        "            [35,8,0],\n",
        "            [25,7,30]\n",
        "        ],\n",
        "        [\n",
        "            [2,15,9],\n",
        "            [4,-23,432]\n",
        "        ]\n",
        "    ],\n",
        "])\n",
        "\n",
        "print(tensor_four_d)"
      ],
      "metadata": {
        "colab": {
          "base_uri": "https://localhost:8080/"
        },
        "id": "jSCUsSCWyLvy",
        "outputId": "a8210e71-19d5-4495-ec97-c3fb0bbe56b8"
      },
      "execution_count": null,
      "outputs": [
        {
          "output_type": "stream",
          "name": "stdout",
          "text": [
            "tf.Tensor(\n",
            "[[[[  1   2   0]\n",
            "   [  3   5  -1]]\n",
            "\n",
            "  [[ 10   2   0]\n",
            "   [  1   0   2]]\n",
            "\n",
            "  [[  5   8   0]\n",
            "   [  2   7   0]]\n",
            "\n",
            "  [[  2   1   9]\n",
            "   [  4  -3  32]]]\n",
            "\n",
            "\n",
            " [[[ 16  21   0]\n",
            "   [  3  52 -15]]\n",
            "\n",
            "  [[ 10  52  60]\n",
            "   [ 21  40  32]]\n",
            "\n",
            "  [[ 53   8   0]\n",
            "   [  2  77   0]]\n",
            "\n",
            "  [[  2  31   9]\n",
            "   [  4 -36 352]]]\n",
            "\n",
            "\n",
            " [[[ 69  62   0]\n",
            "   [ 34   5  -1]]\n",
            "\n",
            "  [[ 10   2  40]\n",
            "   [  1  20   2]]\n",
            "\n",
            "  [[ 35   8   0]\n",
            "   [ 25   7  30]]\n",
            "\n",
            "  [[  2  15   9]\n",
            "   [  4 -23 432]]]], shape=(3, 4, 2, 3), dtype=int32)\n"
          ]
        }
      ]
    },
    {
      "cell_type": "code",
      "source": [
        "# Return the shape\n",
        "\n",
        "print(tensor_zero_d.shape)\n",
        "print(tensor_one_d.shape)\n",
        "print(tensor_one1_d.shape)\n",
        "print(tensor_two_d.shape)\n",
        "print(tensor_three_d.shape)\n",
        "print(tensor_four_d.shape)"
      ],
      "metadata": {
        "colab": {
          "base_uri": "https://localhost:8080/"
        },
        "id": "4WgkLPICtOAk",
        "outputId": "4034b1bb-8af3-4076-90c9-50eb88fee215"
      },
      "execution_count": null,
      "outputs": [
        {
          "output_type": "stream",
          "name": "stdout",
          "text": [
            "()\n",
            "(3,)\n",
            "(5,)\n",
            "(4, 3)\n",
            "(4, 2, 3)\n",
            "(3, 4, 2, 3)\n"
          ]
        }
      ]
    },
    {
      "cell_type": "code",
      "source": [
        "# Return the dimension\n",
        "\n",
        "print(tensor_zero_d.ndim)\n",
        "print(tensor_one_d.ndim)\n",
        "print(tensor_one1_d.ndim)\n",
        "print(tensor_two_d.ndim)\n",
        "print(tensor_three_d.ndim)\n",
        "print(tensor_four_d.ndim)"
      ],
      "metadata": {
        "colab": {
          "base_uri": "https://localhost:8080/"
        },
        "id": "gsCkK2CjyLpM",
        "outputId": "f5fadce4-adaf-49c6-fc3b-0b6c48b6530a"
      },
      "execution_count": null,
      "outputs": [
        {
          "output_type": "stream",
          "name": "stdout",
          "text": [
            "0\n",
            "1\n",
            "1\n",
            "2\n",
            "3\n",
            "4\n"
          ]
        }
      ]
    },
    {
      "cell_type": "code",
      "source": [
        "# Boolean Tensors\n",
        "\n",
        "tensor_bool = tf.constant([True,True,False])\n",
        "print(tensor_bool)"
      ],
      "metadata": {
        "colab": {
          "base_uri": "https://localhost:8080/"
        },
        "id": "bguoKej40REi",
        "outputId": "701e4977-1653-48c8-9920-32892a5d7054"
      },
      "execution_count": null,
      "outputs": [
        {
          "output_type": "stream",
          "name": "stdout",
          "text": [
            "tf.Tensor([ True  True False], shape=(3,), dtype=bool)\n"
          ]
        }
      ]
    },
    {
      "cell_type": "code",
      "source": [
        "# String Tensors\n",
        "\n",
        "tensor_string = tf.constant([\"Hello World\", \"Hi\"])\n",
        "print(tensor_string)"
      ],
      "metadata": {
        "colab": {
          "base_uri": "https://localhost:8080/"
        },
        "id": "jH5RsTPk0RHt",
        "outputId": "bcf4a86d-4b78-44d2-e6b7-0914babcf4c2"
      },
      "execution_count": null,
      "outputs": [
        {
          "output_type": "stream",
          "name": "stdout",
          "text": [
            "tf.Tensor([b'Hello World' b'Hi'], shape=(2,), dtype=string)\n"
          ]
        }
      ]
    },
    {
      "cell_type": "code",
      "source": [
        "import numpy as np"
      ],
      "metadata": {
        "id": "AGXjNIA42eHv"
      },
      "execution_count": null,
      "outputs": []
    },
    {
      "cell_type": "code",
      "source": [
        "np_array = np.array([1,2,4])\n",
        "print(np_array)"
      ],
      "metadata": {
        "colab": {
          "base_uri": "https://localhost:8080/"
        },
        "id": "dJcJCDk52eK6",
        "outputId": "98e9296a-83bc-4244-d4b1-f09d1b64ee70"
      },
      "execution_count": null,
      "outputs": [
        {
          "output_type": "stream",
          "name": "stdout",
          "text": [
            "[1 2 4]\n"
          ]
        }
      ]
    },
    {
      "cell_type": "code",
      "source": [
        "# Converting a Numpy Array to Tensor\n",
        "\n",
        "converted_tensor = tf.convert_to_tensor(np_array)\n",
        "print(converted_tensor)"
      ],
      "metadata": {
        "colab": {
          "base_uri": "https://localhost:8080/"
        },
        "id": "w4HSSFMJ2eNf",
        "outputId": "54890592-cf31-4b21-c788-86891b869f26"
      },
      "execution_count": null,
      "outputs": [
        {
          "output_type": "stream",
          "name": "stdout",
          "text": [
            "tf.Tensor([1 2 4], shape=(3,), dtype=int64)\n"
          ]
        }
      ]
    },
    {
      "cell_type": "code",
      "source": [
        "# Eye Tensor ( Construct an identity matrix, or a batch of matrices. )\n",
        "\n",
        "eye_tensor1 = tf.eye(\n",
        "    num_rows = 3,\n",
        "    num_columns=None,\n",
        "    batch_shape=None,\n",
        "    dtype=tf.dtypes.float32,\n",
        "    name=None\n",
        ")\n",
        "\n",
        "eye_tensor2 = tf.eye(\n",
        "    num_rows = 3,\n",
        "    num_columns=None,\n",
        "    batch_shape=None,\n",
        "    dtype=tf.dtypes.bool,\n",
        "    name=None\n",
        ")\n",
        "\n",
        "eye_tensor3 = tf.eye(\n",
        "    num_rows = 10,\n",
        "    num_columns=5,\n",
        "    batch_shape=None,\n",
        "    dtype=tf.dtypes.int64,\n",
        "    name=None\n",
        ")\n",
        "\n",
        "eye_tensor4 = tf.eye(\n",
        "    num_rows = 5,\n",
        "    num_columns=None,\n",
        "    batch_shape=[3,],\n",
        "    dtype=tf.dtypes.int64,\n",
        "    name=None\n",
        ")\n",
        "\n",
        "print(eye_tensor1)\n",
        "print(3*eye_tensor1)\n",
        "\n",
        "print(eye_tensor2)\n",
        "\n",
        "print(eye_tensor3)\n",
        "print(3*eye_tensor3)\n",
        "\n",
        "print(eye_tensor4)"
      ],
      "metadata": {
        "colab": {
          "base_uri": "https://localhost:8080/"
        },
        "id": "CKCi_NuH2eQA",
        "outputId": "b461f622-1e45-47b0-b2a3-8b1be8a2a2f3"
      },
      "execution_count": null,
      "outputs": [
        {
          "output_type": "stream",
          "name": "stdout",
          "text": [
            "tf.Tensor(\n",
            "[[1. 0. 0.]\n",
            " [0. 1. 0.]\n",
            " [0. 0. 1.]], shape=(3, 3), dtype=float32)\n",
            "tf.Tensor(\n",
            "[[3. 0. 0.]\n",
            " [0. 3. 0.]\n",
            " [0. 0. 3.]], shape=(3, 3), dtype=float32)\n",
            "tf.Tensor(\n",
            "[[ True False False]\n",
            " [False  True False]\n",
            " [False False  True]], shape=(3, 3), dtype=bool)\n",
            "tf.Tensor(\n",
            "[[1 0 0 0 0]\n",
            " [0 1 0 0 0]\n",
            " [0 0 1 0 0]\n",
            " [0 0 0 1 0]\n",
            " [0 0 0 0 1]\n",
            " [0 0 0 0 0]\n",
            " [0 0 0 0 0]\n",
            " [0 0 0 0 0]\n",
            " [0 0 0 0 0]\n",
            " [0 0 0 0 0]], shape=(10, 5), dtype=int64)\n",
            "tf.Tensor(\n",
            "[[3 0 0 0 0]\n",
            " [0 3 0 0 0]\n",
            " [0 0 3 0 0]\n",
            " [0 0 0 3 0]\n",
            " [0 0 0 0 3]\n",
            " [0 0 0 0 0]\n",
            " [0 0 0 0 0]\n",
            " [0 0 0 0 0]\n",
            " [0 0 0 0 0]\n",
            " [0 0 0 0 0]], shape=(10, 5), dtype=int64)\n",
            "tf.Tensor(\n",
            "[[[1 0 0 0 0]\n",
            "  [0 1 0 0 0]\n",
            "  [0 0 1 0 0]\n",
            "  [0 0 0 1 0]\n",
            "  [0 0 0 0 1]]\n",
            "\n",
            " [[1 0 0 0 0]\n",
            "  [0 1 0 0 0]\n",
            "  [0 0 1 0 0]\n",
            "  [0 0 0 1 0]\n",
            "  [0 0 0 0 1]]\n",
            "\n",
            " [[1 0 0 0 0]\n",
            "  [0 1 0 0 0]\n",
            "  [0 0 1 0 0]\n",
            "  [0 0 0 1 0]\n",
            "  [0 0 0 0 1]]], shape=(3, 5, 5), dtype=int64)\n"
          ]
        }
      ]
    },
    {
      "cell_type": "code",
      "source": [
        "# Fill Method ( Creates a tensor filled with a scalar value. )\n",
        "\n",
        "fill_tensor1 = tf.fill(\n",
        "    [3,4], 5, name=None, layout=None\n",
        ")\n",
        "\n",
        "fill_tensor2 = tf.fill(\n",
        "    [3,4], 5, name=None, layout=None\n",
        ")\n",
        "\n",
        "print(fill_tensor1)\n",
        "print(fill_tensor2)"
      ],
      "metadata": {
        "colab": {
          "base_uri": "https://localhost:8080/"
        },
        "id": "EKd4Ru6a3yH-",
        "outputId": "4ed2718c-b807-45fa-94ed-10b713aea092"
      },
      "execution_count": null,
      "outputs": [
        {
          "output_type": "stream",
          "name": "stdout",
          "text": [
            "tf.Tensor(\n",
            "[[5 5 5 5]\n",
            " [5 5 5 5]\n",
            " [5 5 5 5]], shape=(3, 4), dtype=int32)\n",
            "tf.Tensor(\n",
            "[[5 5 5 5]\n",
            " [5 5 5 5]\n",
            " [5 5 5 5]], shape=(3, 4), dtype=int32)\n"
          ]
        }
      ]
    },
    {
      "cell_type": "code",
      "source": [
        "# Ones Method ( Creates a tensor with all elements set to one (1). )\n",
        "\n",
        "ones_tensor = tf.ones(\n",
        "    [3,5,3,2],\n",
        "    dtype=tf.dtypes.float32,\n",
        "    name=None,\n",
        "    layout=None\n",
        ")\n",
        "print(ones_tensor)"
      ],
      "metadata": {
        "colab": {
          "base_uri": "https://localhost:8080/"
        },
        "id": "6kqAqh323yLM",
        "outputId": "2b542b65-7299-46c4-caaa-59ddf320b0c4"
      },
      "execution_count": null,
      "outputs": [
        {
          "output_type": "stream",
          "name": "stdout",
          "text": [
            "tf.Tensor(\n",
            "[[[[1. 1.]\n",
            "   [1. 1.]\n",
            "   [1. 1.]]\n",
            "\n",
            "  [[1. 1.]\n",
            "   [1. 1.]\n",
            "   [1. 1.]]\n",
            "\n",
            "  [[1. 1.]\n",
            "   [1. 1.]\n",
            "   [1. 1.]]\n",
            "\n",
            "  [[1. 1.]\n",
            "   [1. 1.]\n",
            "   [1. 1.]]\n",
            "\n",
            "  [[1. 1.]\n",
            "   [1. 1.]\n",
            "   [1. 1.]]]\n",
            "\n",
            "\n",
            " [[[1. 1.]\n",
            "   [1. 1.]\n",
            "   [1. 1.]]\n",
            "\n",
            "  [[1. 1.]\n",
            "   [1. 1.]\n",
            "   [1. 1.]]\n",
            "\n",
            "  [[1. 1.]\n",
            "   [1. 1.]\n",
            "   [1. 1.]]\n",
            "\n",
            "  [[1. 1.]\n",
            "   [1. 1.]\n",
            "   [1. 1.]]\n",
            "\n",
            "  [[1. 1.]\n",
            "   [1. 1.]\n",
            "   [1. 1.]]]\n",
            "\n",
            "\n",
            " [[[1. 1.]\n",
            "   [1. 1.]\n",
            "   [1. 1.]]\n",
            "\n",
            "  [[1. 1.]\n",
            "   [1. 1.]\n",
            "   [1. 1.]]\n",
            "\n",
            "  [[1. 1.]\n",
            "   [1. 1.]\n",
            "   [1. 1.]]\n",
            "\n",
            "  [[1. 1.]\n",
            "   [1. 1.]\n",
            "   [1. 1.]]\n",
            "\n",
            "  [[1. 1.]\n",
            "   [1. 1.]\n",
            "   [1. 1.]]]], shape=(3, 5, 3, 2), dtype=float32)\n"
          ]
        }
      ]
    },
    {
      "cell_type": "code",
      "source": [
        "# Ones Like Method ( Creates a tensor of all ones that has the same shape as the input. )\n",
        "\n",
        "tf.ones_like(\n",
        "    fill_tensor2, dtype=None, name=None, layout=None\n",
        ")"
      ],
      "metadata": {
        "colab": {
          "base_uri": "https://localhost:8080/"
        },
        "id": "OU5tz2gB3yOW",
        "outputId": "4b3be10a-1a3b-455b-8b0c-f76ae00b200b"
      },
      "execution_count": null,
      "outputs": [
        {
          "output_type": "execute_result",
          "data": {
            "text/plain": [
              "<tf.Tensor: shape=(3, 4), dtype=int32, numpy=\n",
              "array([[1, 1, 1, 1],\n",
              "       [1, 1, 1, 1],\n",
              "       [1, 1, 1, 1]], dtype=int32)>"
            ]
          },
          "metadata": {},
          "execution_count": 18
        }
      ]
    },
    {
      "cell_type": "code",
      "source": [
        "# Zeros Method ( Creates a tensor with all elements set to zero. )\n",
        "\n",
        "zeros_tensor = tf.zeros(\n",
        "    [3,5],\n",
        "    dtype=tf.dtypes.float32,\n",
        "    name=None,\n",
        "    layout=None\n",
        ")\n",
        "print(zeros_tensor)"
      ],
      "metadata": {
        "colab": {
          "base_uri": "https://localhost:8080/"
        },
        "id": "Bvk2xvI263xj",
        "outputId": "dcaec2d0-b90f-44f4-f613-9d6524353d8a"
      },
      "execution_count": null,
      "outputs": [
        {
          "output_type": "stream",
          "name": "stdout",
          "text": [
            "tf.Tensor(\n",
            "[[0. 0. 0. 0. 0.]\n",
            " [0. 0. 0. 0. 0.]\n",
            " [0. 0. 0. 0. 0.]], shape=(3, 5), dtype=float32)\n"
          ]
        }
      ]
    },
    {
      "cell_type": "code",
      "source": [
        "# Shape Method ( Returns a tensor containing the shape of the input tensor. )\n",
        "\n",
        "shape_tensor = tf.shape(\n",
        "    fill_tensor1, out_type=None, name=None\n",
        ")\n",
        "print(shape_tensor)"
      ],
      "metadata": {
        "colab": {
          "base_uri": "https://localhost:8080/"
        },
        "id": "ewFAltqq7dWv",
        "outputId": "cd6d29e9-a7de-45ff-87cd-054bfbab8a44"
      },
      "execution_count": null,
      "outputs": [
        {
          "output_type": "stream",
          "name": "stdout",
          "text": [
            "tf.Tensor([3 4], shape=(2,), dtype=int32)\n"
          ]
        }
      ]
    },
    {
      "cell_type": "code",
      "source": [
        "# Rank Method ( Returns the rank of a tensor. )\n",
        "\n",
        "t = tf.constant([[[1, 1, 1], [2, 2, 2]], [[3, 3, 3], [4, 4, 4]]])\n",
        "tf.rank(t)"
      ],
      "metadata": {
        "colab": {
          "base_uri": "https://localhost:8080/"
        },
        "id": "_gxg7pY077yJ",
        "outputId": "d97990f2-fde8-4e58-dbbf-a093e7f7d4d4"
      },
      "execution_count": null,
      "outputs": [
        {
          "output_type": "execute_result",
          "data": {
            "text/plain": [
              "<tf.Tensor: shape=(), dtype=int32, numpy=3>"
            ]
          },
          "metadata": {},
          "execution_count": 21
        }
      ]
    },
    {
      "cell_type": "code",
      "source": [
        "# Size Method ( Returns the size of a tensor. )\n",
        "\n",
        "# tf.size(\n",
        "#     input, out_type=None, name=None\n",
        "# )\n",
        "\n",
        "# Returns a 0-D Tensor representing the number of elements in input of type out_type. Defaults to tf.int32.\n",
        "\n",
        "t = tf.constant([[[1, 1, 1], [2, 2, 2]], [[3, 3, 3], [4, 4, 4]]])\n",
        "tf.size(t)"
      ],
      "metadata": {
        "colab": {
          "base_uri": "https://localhost:8080/"
        },
        "id": "7BVQqgUi8oyI",
        "outputId": "021b3c68-76af-47cb-d2d8-d41b82810152"
      },
      "execution_count": null,
      "outputs": [
        {
          "output_type": "execute_result",
          "data": {
            "text/plain": [
              "<tf.Tensor: shape=(), dtype=int32, numpy=12>"
            ]
          },
          "metadata": {},
          "execution_count": 22
        }
      ]
    },
    {
      "cell_type": "code",
      "source": [
        "# Random Normal Method ( Outputs random values from a normal distribution. )\n",
        "\n",
        "random_normal_tensor1 = tf.random.normal(\n",
        "    [3,5],\n",
        "    mean=0.0,\n",
        "    stddev=1.0,\n",
        "    dtype=tf.dtypes.float32,\n",
        "    seed=None,\n",
        "    name=None\n",
        ")\n",
        "\n",
        "random_normal_tensor2 = tf.random.normal(\n",
        "    [3,2],\n",
        "    mean=100.0,\n",
        "    stddev=1.0,\n",
        "    dtype=tf.dtypes.float32,\n",
        "    seed=None,\n",
        "    name=None\n",
        ")\n",
        "\n",
        "print(random_normal_tensor1)\n",
        "print(random_normal_tensor2)"
      ],
      "metadata": {
        "colab": {
          "base_uri": "https://localhost:8080/"
        },
        "id": "n3Q0GsCv9dk9",
        "outputId": "b37101e7-2286-4515-a79e-3e37f4e688e6"
      },
      "execution_count": null,
      "outputs": [
        {
          "output_type": "stream",
          "name": "stdout",
          "text": [
            "tf.Tensor(\n",
            "[[-1.2442502  -1.1443207  -0.80716383  1.2356743  -0.2788294 ]\n",
            " [-0.12809137 -0.51027876 -1.2717333   0.4982445   1.6752826 ]\n",
            " [-0.28305998 -0.52798027 -0.09556457  1.0849276  -2.2254894 ]], shape=(3, 5), dtype=float32)\n",
            "tf.Tensor(\n",
            "[[99.42869  99.287155]\n",
            " [99.351204 98.81927 ]\n",
            " [98.60877  99.73159 ]], shape=(3, 2), dtype=float32)\n"
          ]
        }
      ]
    },
    {
      "cell_type": "code",
      "source": [
        "# Random Normal Method ( Outputs random values from a uniform distribution. )\n",
        "\n",
        "random_uniform_tensor1 = tf.random.uniform(\n",
        "    [3,5],\n",
        "    minval=0,\n",
        "    maxval=None,\n",
        "    dtype=tf.dtypes.float32,\n",
        "    seed=None,\n",
        "    name=None\n",
        ")\n",
        "\n",
        "random_uniform_tensor2 = tf.random.uniform(\n",
        "    [5],\n",
        "    minval=100,\n",
        "    maxval=500,\n",
        "    dtype=tf.dtypes.float32,\n",
        "    seed=None,\n",
        "    name=None\n",
        ")\n",
        "\n",
        "print(random_uniform_tensor1)\n",
        "print(random_uniform_tensor2)"
      ],
      "metadata": {
        "colab": {
          "base_uri": "https://localhost:8080/"
        },
        "id": "CLg8OUOQ-lkb",
        "outputId": "68b0c367-83d1-44a9-be38-141c5d1e5459"
      },
      "execution_count": null,
      "outputs": [
        {
          "output_type": "stream",
          "name": "stdout",
          "text": [
            "tf.Tensor(\n",
            "[[0.11435914 0.8329456  0.89484286 0.9148203  0.5795454 ]\n",
            " [0.25399446 0.84935606 0.6324642  0.14592671 0.4627794 ]\n",
            " [0.6538658  0.8955959  0.04225504 0.9115442  0.64700913]], shape=(3, 5), dtype=float32)\n",
            "tf.Tensor([455.62598 460.62155 399.12256 484.32288 361.1847 ], shape=(5,), dtype=float32)\n"
          ]
        }
      ]
    },
    {
      "cell_type": "code",
      "source": [
        "# To set a constant global tensor with seed\n",
        "\n",
        "tf.random.set_seed(5)\n",
        "print(tf.random.uniform(shape=[3,], maxval=3, dtype=tf.int32, seed=10))\n",
        "print(tf.random.uniform(shape=[3,], maxval=3, dtype=tf.int32, seed=10))\n",
        "print(tf.random.uniform(shape=[3,], maxval=3, dtype=tf.int32, seed=10))\n",
        "print(tf.random.uniform(shape=[3,], maxval=3, dtype=tf.int32, seed=10))"
      ],
      "metadata": {
        "colab": {
          "base_uri": "https://localhost:8080/"
        },
        "id": "FlmMfc0C-mEQ",
        "outputId": "e5eb9c95-dc32-443f-8241-bad2e1944cd7"
      },
      "execution_count": null,
      "outputs": [
        {
          "output_type": "stream",
          "name": "stdout",
          "text": [
            "tf.Tensor([2 0 1], shape=(3,), dtype=int32)\n",
            "tf.Tensor([1 0 0], shape=(3,), dtype=int32)\n",
            "tf.Tensor([0 1 1], shape=(3,), dtype=int32)\n",
            "tf.Tensor([2 1 2], shape=(3,), dtype=int32)\n"
          ]
        }
      ]
    },
    {
      "cell_type": "code",
      "source": [
        "# To set a constant global tensor with seed\n",
        "\n",
        "\n",
        "tf.random.set_seed(5)\n",
        "print(tf.random.uniform(shape=[3,], maxval=3, dtype=tf.int32, seed=10))\n",
        "print(tf.random.uniform(shape=[3,], maxval=3, dtype=tf.int32, seed=10))\n",
        "print(tf.random.uniform(shape=[3,], maxval=3, dtype=tf.int32, seed=10))\n",
        "print(tf.random.uniform(shape=[3,], maxval=3, dtype=tf.int32, seed=10))"
      ],
      "metadata": {
        "colab": {
          "base_uri": "https://localhost:8080/"
        },
        "id": "4EANZtnBNu-u",
        "outputId": "4662a39e-24fc-4a37-d061-6cf0448519fc"
      },
      "execution_count": null,
      "outputs": [
        {
          "output_type": "stream",
          "name": "stdout",
          "text": [
            "tf.Tensor([2 0 1], shape=(3,), dtype=int32)\n",
            "tf.Tensor([1 0 0], shape=(3,), dtype=int32)\n",
            "tf.Tensor([0 1 1], shape=(3,), dtype=int32)\n",
            "tf.Tensor([2 1 2], shape=(3,), dtype=int32)\n"
          ]
        }
      ]
    },
    {
      "cell_type": "code",
      "source": [
        "# Tensor Indexing\n",
        "\n",
        "tensor_indexed = tf.constant([3,6,2,4,6,66,7])\n",
        "print(tensor_indexed)\n",
        "print(tensor_indexed[0:4])\n",
        "print(tensor_indexed[1:6:4])\n",
        "print(tensor_indexed[3:])\n",
        "print(tensor_indexed[:4])"
      ],
      "metadata": {
        "colab": {
          "base_uri": "https://localhost:8080/"
        },
        "id": "uIt6DhOvRq1r",
        "outputId": "77af285e-e2e2-4d06-e134-670cd89ee488"
      },
      "execution_count": null,
      "outputs": [
        {
          "output_type": "stream",
          "name": "stdout",
          "text": [
            "tf.Tensor([ 3  6  2  4  6 66  7], shape=(7,), dtype=int32)\n",
            "tf.Tensor([3 6 2 4], shape=(4,), dtype=int32)\n",
            "tf.Tensor([ 6 66], shape=(2,), dtype=int32)\n",
            "tf.Tensor([ 4  6 66  7], shape=(4,), dtype=int32)\n",
            "tf.Tensor([3 6 2 4], shape=(4,), dtype=int32)\n"
          ]
        }
      ]
    },
    {
      "cell_type": "code",
      "source": [
        "print(tf.range(2,5))\n",
        "print(tf.range(2,5+1))"
      ],
      "metadata": {
        "colab": {
          "base_uri": "https://localhost:8080/"
        },
        "id": "dNzpYnLTSjW0",
        "outputId": "8bacdb7c-a81b-4a2f-f772-47189dfa8cae"
      },
      "execution_count": null,
      "outputs": [
        {
          "output_type": "stream",
          "name": "stdout",
          "text": [
            "tf.Tensor([2 3 4], shape=(3,), dtype=int32)\n",
            "tf.Tensor([2 3 4 5], shape=(4,), dtype=int32)\n"
          ]
        }
      ]
    },
    {
      "cell_type": "code",
      "source": [
        "# Absolute Value\n",
        "\n",
        "x_abs = tf.constant([-2.34, 3.45])\n",
        "tf.abs(x_abs)\n",
        "\n",
        "x_abs_complex = tf.constant([-2.25 + 4.75j])\n",
        "tf.abs(x_abs_complex)"
      ],
      "metadata": {
        "colab": {
          "base_uri": "https://localhost:8080/"
        },
        "id": "QaTaOEWfSjeV",
        "outputId": "aefd3034-ac1f-4f1e-e721-680e193d2691"
      },
      "execution_count": null,
      "outputs": [
        {
          "output_type": "execute_result",
          "data": {
            "text/plain": [
              "<tf.Tensor: shape=(1,), dtype=float64, numpy=array([5.25594901])>"
            ]
          },
          "metadata": {},
          "execution_count": 29
        }
      ]
    },
    {
      "cell_type": "code",
      "source": [
        "tf.sqrt((-2.25)**2 + 4.75**2)"
      ],
      "metadata": {
        "colab": {
          "base_uri": "https://localhost:8080/"
        },
        "id": "ySgDX5QYfoO9",
        "outputId": "14776c9e-d5e8-4d07-c6cd-6c123afa60d0"
      },
      "execution_count": null,
      "outputs": [
        {
          "output_type": "execute_result",
          "data": {
            "text/plain": [
              "<tf.Tensor: shape=(), dtype=float32, numpy=5.255949>"
            ]
          },
          "metadata": {},
          "execution_count": 30
        }
      ]
    },
    {
      "cell_type": "code",
      "source": [
        "# Operations\n",
        "\n",
        "x1 = tf.constant([5,3,6,6,4,6], dtype = tf.int32)\n",
        "x2 = tf.constant([7], dtype = tf.int32)\n",
        "\n",
        "print(tf.add(x1,x2))\n",
        "print(tf.multiply(x1,x2))\n",
        "print(tf.subtract(x1,x2))\n",
        "print(tf.divide(x1,x2))\n",
        "print(tf.math.divide_no_nan(x1,x2))"
      ],
      "metadata": {
        "colab": {
          "base_uri": "https://localhost:8080/"
        },
        "id": "3iU_TuyBfoRm",
        "outputId": "5aec40a8-fe3f-4508-d03e-e1e7ecb188d2"
      },
      "execution_count": null,
      "outputs": [
        {
          "output_type": "stream",
          "name": "stdout",
          "text": [
            "tf.Tensor([12 10 13 13 11 13], shape=(6,), dtype=int32)\n",
            "tf.Tensor([35 21 42 42 28 42], shape=(6,), dtype=int32)\n",
            "tf.Tensor([-2 -4 -1 -1 -3 -1], shape=(6,), dtype=int32)\n",
            "tf.Tensor([0.71428571 0.42857143 0.85714286 0.85714286 0.57142857 0.85714286], shape=(6,), dtype=float64)\n",
            "tf.Tensor([0.71428571 0.42857143 0.85714286 0.85714286 0.57142857 0.85714286], shape=(6,), dtype=float64)\n"
          ]
        }
      ]
    },
    {
      "cell_type": "code",
      "source": [
        "tf.pow(tf.constant(2), tf.constant(3))"
      ],
      "metadata": {
        "colab": {
          "base_uri": "https://localhost:8080/"
        },
        "id": "eUduZy4NfoUD",
        "outputId": "b2f5bfef-6557-458a-ddce-d9be79be05a7"
      },
      "execution_count": null,
      "outputs": [
        {
          "output_type": "execute_result",
          "data": {
            "text/plain": [
              "<tf.Tensor: shape=(), dtype=int32, numpy=8>"
            ]
          },
          "metadata": {},
          "execution_count": 32
        }
      ]
    },
    {
      "cell_type": "code",
      "source": [
        "tf.transpose(tensor_two_d)\n",
        "\n",
        "contmat = tf.constant([1,2,0])\n",
        "tf.transpose(contmat)\n",
        "\n",
        "print(contmat.shape)\n",
        "print(tf.transpose(contmat).shape)\n"
      ],
      "metadata": {
        "id": "IDIggRhzfoWf",
        "colab": {
          "base_uri": "https://localhost:8080/"
        },
        "outputId": "7e5966d5-46bf-459e-a0a3-310a692b17fc"
      },
      "execution_count": null,
      "outputs": [
        {
          "output_type": "stream",
          "name": "stdout",
          "text": [
            "(3,)\n",
            "(3,)\n"
          ]
        }
      ]
    },
    {
      "cell_type": "code",
      "source": [
        "import tensorflow as tf\n",
        "\n",
        "# Example 1-dimensional tensors (vectors)\n",
        "x1 = tf.constant([1, 2, 3], dtype=tf.float32)\n",
        "x2 = tf.constant([4, 5, 6], dtype=tf.float32)\n",
        "\n",
        "# Reshape the vectors into 2-dimensional tensors (matrices)\n",
        "x1_reshaped = tf.reshape(x1, (1, -1))  # Shape (1, 3)\n",
        "x2_reshaped = tf.reshape(x2, (1, -1))  # Shape (1, 3)\n",
        "\n",
        "# Transpose the second matrix to match dimensions for matmul\n",
        "x2_reshaped_T = tf.transpose(x2_reshaped)  # Shape (3, 1)\n",
        "\n",
        "# Perform matrix multiplication\n",
        "result = tf.linalg.matmul(x1_reshaped, x2_reshaped_T)\n",
        "\n",
        "print(result)\n"
      ],
      "metadata": {
        "id": "s31_nL5-foYo",
        "colab": {
          "base_uri": "https://localhost:8080/"
        },
        "outputId": "fb292fe7-7fd3-4bf5-f24c-318d14a049fc"
      },
      "execution_count": null,
      "outputs": [
        {
          "output_type": "stream",
          "name": "stdout",
          "text": [
            "tf.Tensor([[32.]], shape=(1, 1), dtype=float32)\n"
          ]
        }
      ]
    },
    {
      "cell_type": "markdown",
      "source": [],
      "metadata": {
        "id": "L0qgQz5rg8On"
      }
    },
    {
      "cell_type": "code",
      "source": [
        "import tensorflow as tf\n",
        "\n",
        "# Example 1-dimensional tensor (vector)\n",
        "x1 = tf.constant([1, 2, 3], dtype=tf.float32)\n",
        "\n",
        "# Reshape the vector into a 2-dimensional tensor (matrix)\n",
        "x1_reshaped = tf.reshape(x1, (1, -1))  # Shape (1, 3) or (-1, 1) for (3, 1)\n",
        "\n",
        "# Perform SVD\n",
        "s, u, v = tf.linalg.svd(x1_reshaped)\n",
        "\n",
        "print(\"Singular values:\", s)\n",
        "print(\"Left singular vectors (U):\", u)\n",
        "print(\"Right singular vectors (V):\", v)\n"
      ],
      "metadata": {
        "colab": {
          "base_uri": "https://localhost:8080/"
        },
        "id": "cTq-WsAPPrdE",
        "outputId": "d6cc9981-874c-4053-d537-c8c63655b290"
      },
      "execution_count": null,
      "outputs": [
        {
          "output_type": "stream",
          "name": "stdout",
          "text": [
            "Singular values: tf.Tensor([3.7416573], shape=(1,), dtype=float32)\n",
            "Left singular vectors (U): tf.Tensor([[-1.]], shape=(1, 1), dtype=float32)\n",
            "Right singular vectors (V): tf.Tensor(\n",
            "[[-0.26726127]\n",
            " [-0.53452253]\n",
            " [-0.8017838 ]], shape=(3, 1), dtype=float32)\n"
          ]
        }
      ]
    },
    {
      "cell_type": "code",
      "source": [
        "# Summing elements in column and row\n",
        "\n",
        "A = np.array([[2,6,5,2],\n",
        "             [2,-2,2,3],\n",
        "             [1,5,4,0]])\n",
        "\n",
        "print(np.einsum('ij -> i', A))\n",
        "print(np.einsum('ij -> j', A))"
      ],
      "metadata": {
        "colab": {
          "base_uri": "https://localhost:8080/"
        },
        "id": "938VK_xlPrj_",
        "outputId": "a6d3bd2b-e8fe-4a53-f3e4-e92b688d1792"
      },
      "execution_count": null,
      "outputs": [
        {
          "output_type": "stream",
          "name": "stdout",
          "text": [
            "[15  5 10]\n",
            "[ 5  9 11  5]\n"
          ]
        }
      ]
    },
    {
      "cell_type": "code",
      "source": [
        "import numpy as np\n",
        "\n",
        "\n",
        "B = np.random.randn(2,4,4,2) #bcij\n",
        "C = np.random.randn(2,4,4,1) #bcik\n",
        "\n",
        "np.einsum(\"bcik,bcij -> bckj\", C,B).shape"
      ],
      "metadata": {
        "id": "oHXFj-4M7M9U",
        "colab": {
          "base_uri": "https://localhost:8080/"
        },
        "outputId": "1ca96709-be72-4d07-c423-8fc3e138f7d0"
      },
      "execution_count": null,
      "outputs": [
        {
          "output_type": "execute_result",
          "data": {
            "text/plain": [
              "(2, 4, 1, 2)"
            ]
          },
          "metadata": {},
          "execution_count": 1
        }
      ]
    },
    {
      "cell_type": "code",
      "source": [
        "# Expand Size\n",
        "\n",
        "import tensorflow as tf\n",
        "\n",
        "x = tf.constant([[[2,3,4,5]]])\n",
        "print(x.shape)\n",
        "print(tf.expand_dims(x, axis=0))"
      ],
      "metadata": {
        "id": "UctnS7Rf7McU",
        "colab": {
          "base_uri": "https://localhost:8080/"
        },
        "outputId": "dc97ce2f-1d08-4eed-d991-c45128a07d14"
      },
      "execution_count": null,
      "outputs": [
        {
          "output_type": "stream",
          "name": "stdout",
          "text": [
            "(1, 1, 4)\n",
            "tf.Tensor([[[[2 3 4 5]]]], shape=(1, 1, 1, 4), dtype=int32)\n"
          ]
        }
      ]
    },
    {
      "cell_type": "code",
      "source": [
        "import tensorflow as tf\n",
        "x = tf.constant([[[2,3,4,5]]])\n",
        "\n",
        "for i in range(2):\n",
        "  x_squeezed = tf.squeeze(x, axis = 0)\n",
        "\n",
        "print(x_squeezed)"
      ],
      "metadata": {
        "id": "h78CkZphS8ka",
        "colab": {
          "base_uri": "https://localhost:8080/"
        },
        "outputId": "1c4249f0-9102-41e6-f997-e068b7f323aa"
      },
      "execution_count": null,
      "outputs": [
        {
          "output_type": "stream",
          "name": "stdout",
          "text": [
            "tf.Tensor([[2 3 4 5]], shape=(1, 4), dtype=int32)\n"
          ]
        }
      ]
    },
    {
      "cell_type": "code",
      "source": [
        "# Concatination\n",
        "\n",
        "t1 = [[1,2,3],\n",
        "      [4,5,6]]\n",
        "\n",
        "t2 = [[7,8,9],\n",
        "      [10,11,12]]\n",
        "\n",
        "print(tf.constant(t1).shape)\n",
        "print(tf.constant(t2).shape)\n",
        "\n",
        "print(tf.concat([t1,t2], axis = 0))  # will combine like rows (one below other)\n",
        "print(tf.concat([t1,t2], axis = 1))  # will combine like columns (next to each other)"
      ],
      "metadata": {
        "colab": {
          "base_uri": "https://localhost:8080/"
        },
        "id": "1pGRwL9TQSFX",
        "outputId": "61e2e2fb-8600-4a1f-e731-1bf982373ecf"
      },
      "execution_count": null,
      "outputs": [
        {
          "output_type": "stream",
          "name": "stdout",
          "text": [
            "(2, 3)\n",
            "(2, 3)\n",
            "tf.Tensor(\n",
            "[[ 1  2  3]\n",
            " [ 4  5  6]\n",
            " [ 7  8  9]\n",
            " [10 11 12]], shape=(4, 3), dtype=int32)\n",
            "tf.Tensor(\n",
            "[[ 1  2  3  7  8  9]\n",
            " [ 4  5  6 10 11 12]], shape=(2, 6), dtype=int32)\n"
          ]
        }
      ]
    },
    {
      "cell_type": "code",
      "source": [
        "# Stack\n",
        "\n",
        "print(tf.stack([t1,t2], axis = 0))\n",
        "print(tf.stack([t1,t2], axis = 1))\n",
        "print(tf.stack([t1,t2], axis = 2))"
      ],
      "metadata": {
        "colab": {
          "base_uri": "https://localhost:8080/"
        },
        "id": "Ws0IxCY7QSLt",
        "outputId": "15b0fc8e-8568-46c8-d699-3d4dffee509c"
      },
      "execution_count": null,
      "outputs": [
        {
          "output_type": "stream",
          "name": "stdout",
          "text": [
            "tf.Tensor(\n",
            "[[[ 1  2  3]\n",
            "  [ 4  5  6]]\n",
            "\n",
            " [[ 7  8  9]\n",
            "  [10 11 12]]], shape=(2, 2, 3), dtype=int32)\n",
            "tf.Tensor(\n",
            "[[[ 1  2  3]\n",
            "  [ 7  8  9]]\n",
            "\n",
            " [[ 4  5  6]\n",
            "  [10 11 12]]], shape=(2, 2, 3), dtype=int32)\n",
            "tf.Tensor(\n",
            "[[[ 1  7]\n",
            "  [ 2  8]\n",
            "  [ 3  9]]\n",
            "\n",
            " [[ 4 10]\n",
            "  [ 5 11]\n",
            "  [ 6 12]]], shape=(2, 3, 2), dtype=int32)\n"
          ]
        }
      ]
    },
    {
      "cell_type": "code",
      "source": [
        "t = tf.constant([[1, 2, 3], [4, 5, 6]])\n",
        "paddings = tf.constant([[1, 1,], [2, 2]])\n",
        "# 'constant_values' is 0.\n",
        "# rank of 't' is 2.\n",
        "print(tf.pad(t, paddings, \"CONSTANT\"))   # [[0, 0, 0, 0, 0, 0, 0],\n",
        "                                         #  [0, 0, 1, 2, 3, 0, 0],\n",
        "                                         #  [0, 0, 4, 5, 6, 0, 0],\n",
        "                                         #  [0, 0, 0, 0, 0, 0, 0]]\n",
        "\n",
        "print(tf.pad(t, paddings, \"REFLECT\"))    # [[6, 5, 4, 5, 6, 5, 4],\n",
        "                                         #  [3, 2, 1, 2, 3, 2, 1],\n",
        "                                         #  [6, 5, 4, 5, 6, 5, 4],\n",
        "                                         #  [3, 2, 1, 2, 3, 2, 1]]\n",
        "\n",
        "print(tf.pad(t, paddings, \"SYMMETRIC\"))  # [[2, 1, 1, 2, 3, 3, 2],\n",
        "                                         #  [2, 1, 1, 2, 3, 3, 2],\n",
        "                                         #  [5, 4, 4, 5, 6, 6, 5],\n",
        "                                         #  [5, 4, 4, 5, 6, 6, 5]]"
      ],
      "metadata": {
        "colab": {
          "base_uri": "https://localhost:8080/"
        },
        "id": "Asf9bWdFh4ed",
        "outputId": "8f3824b2-f70a-431c-a00c-a25fbbca810e"
      },
      "execution_count": null,
      "outputs": [
        {
          "output_type": "stream",
          "name": "stdout",
          "text": [
            "tf.Tensor(\n",
            "[[0 0 0 0 0 0 0]\n",
            " [0 0 1 2 3 0 0]\n",
            " [0 0 4 5 6 0 0]\n",
            " [0 0 0 0 0 0 0]], shape=(4, 7), dtype=int32)\n",
            "tf.Tensor(\n",
            "[[6 5 4 5 6 5 4]\n",
            " [3 2 1 2 3 2 1]\n",
            " [6 5 4 5 6 5 4]\n",
            " [3 2 1 2 3 2 1]], shape=(4, 7), dtype=int32)\n",
            "tf.Tensor(\n",
            "[[2 1 1 2 3 3 2]\n",
            " [2 1 1 2 3 3 2]\n",
            " [5 4 4 5 6 6 5]\n",
            " [5 4 4 5 6 6 5]], shape=(4, 7), dtype=int32)\n"
          ]
        }
      ]
    },
    {
      "cell_type": "code",
      "source": [
        "import numpy as np\n",
        "\n",
        "params = tf.constant(['p0', 'p1', 'p2', 'p3', 'p4', 'p5'])\n",
        "params[3].numpy()"
      ],
      "metadata": {
        "colab": {
          "base_uri": "https://localhost:8080/"
        },
        "id": "XAg0ptehh4lp",
        "outputId": "847e400e-dd2e-4f7b-afe1-2b2fffc0f927"
      },
      "execution_count": null,
      "outputs": [
        {
          "output_type": "execute_result",
          "data": {
            "text/plain": [
              "b'p3'"
            ]
          },
          "metadata": {},
          "execution_count": 15
        }
      ]
    },
    {
      "cell_type": "code",
      "source": [
        "tf.gather(params, 3).numpy()"
      ],
      "metadata": {
        "colab": {
          "base_uri": "https://localhost:8080/"
        },
        "id": "An9q2rZ_h4r3",
        "outputId": "78176593-b3d3-47e8-f0fd-4c8568035cc2"
      },
      "execution_count": null,
      "outputs": [
        {
          "output_type": "execute_result",
          "data": {
            "text/plain": [
              "b'p3'"
            ]
          },
          "metadata": {},
          "execution_count": 16
        }
      ]
    },
    {
      "cell_type": "code",
      "source": [
        "import tensorflow as tf\n",
        "import numpy as np"
      ],
      "metadata": {
        "id": "WoUwi-jfFNLk"
      },
      "execution_count": null,
      "outputs": []
    },
    {
      "cell_type": "code",
      "source": [
        "with tf.device('GPU:0'):\n",
        "  x_var = tf.Variable(0.2)\n",
        "\n",
        "print(x_var.device)"
      ],
      "metadata": {
        "colab": {
          "base_uri": "https://localhost:8080/"
        },
        "id": "-hX8V1DIFNQ4",
        "outputId": "7ffb37ef-b9b7-4df4-c8a6-05e26c1071bd"
      },
      "execution_count": null,
      "outputs": [
        {
          "output_type": "stream",
          "name": "stdout",
          "text": [
            "/job:localhost/replica:0/task:0/device:CPU:0\n"
          ]
        }
      ]
    }
  ]
}